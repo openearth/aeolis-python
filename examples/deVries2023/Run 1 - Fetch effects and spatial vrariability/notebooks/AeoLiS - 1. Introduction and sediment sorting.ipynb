{
 "cells": [
  {
   "cell_type": "markdown",
   "metadata": {},
   "source": [
    "![copyright](logo.png \"Copyright (c) 2017, Bas Hoonhout\")\n",
    "\n",
    "<div style=\"text-align: right\"> Aeolis workshop material Copyright (c) 2017, Bas Hoonhout </div>\n",
    "<div style=\"text-align: right\"> 2023, Aeolis developer team </div>\n",
    "\n"
   ]
  },
  {
   "cell_type": "markdown",
   "metadata": {},
   "source": [
    "# 1. Introduction and sediment sorting\n",
    "\n",
    "This notebook step-by-step introduces the main functionalities of AeoLiS.\n",
    "AeoLiS is a process-based model for simulating aeolian sediment transport in situations where supply-limiting factors are important, like in coastal environments. Supply-limitations currently supported are soil moisture contents, sediment sorting and armouring and roughness elements.\n",
    "\n",
    "Along with this notebook a series of AeoLiS model schematizations of the Sand Motor is provided.\n",
    "These model schematizations can be used to answer a series of questions at the end of this notebook.\n",
    "Note that these model schematizations are highly optimized for speed and only have an educational purpose.\n",
    "\n",
    "Execute cells by selecting the cell and press **Shift-Enter**."
   ]
  },
  {
   "cell_type": "markdown",
   "metadata": {},
   "source": [
    "### Additional information\n",
    "\n",
    "- The full user documentation of AeoLiS can be found at: http://aeolis.readthedocs.io/.\n",
    "- The latest AeoLiS source code can be found at: https://github.com/openearth/aeolis-python.\n",
    "- The full scientific description of AeoLiS can be found in:\n",
    "\n",
    "  Hoonhout, B. M. and S. de Vries (2016), A process-based model for aeolian sediment\n",
    "  transport and spatiotemporal varying sediment availability, J. Geophys. Res. Earth Surf.,\n",
    "  121, 1555–1575, http://dx.doi.org/10.1002/2015JF003692."
   ]
  },
  {
   "cell_type": "markdown",
   "metadata": {},
   "source": [
    "### Helper functions\n",
    "\n",
    "A few helper functions that you can use to analyze the model output can be found in the file ``plot_tools.py`` that is shipped with this notebook.\n",
    "You need to execute the next cell with **Shift-Enter** to enable these helper functions.\n",
    "Adapt the functions if appropriate.\n",
    "\n",
    "The following functions are available:\n",
    "- ``plot_bathymetry``\n",
    "- ``plot_erosion``\n",
    "- ``plot_erosion_multi``\n",
    "- ``plot_coverage``\n",
    "- ``create_animation``"
   ]
  },
  {
   "cell_type": "code",
   "execution_count": null,
   "metadata": {},
   "outputs": [],
   "source": [
    "# this line causes plots to appear inline rather than in a separate window\n",
    "%matplotlib inline\n",
    "\n",
    "from plot_tools_sandmotor import *"
   ]
  },
  {
   "cell_type": "markdown",
   "metadata": {},
   "source": [
    "Use the commands ``[functionname]?`` or ``[functionname]??`` to get usage information on a particular function.\n",
    "\n",
    "Uncomment one of the following lines and press **Shift-Enter** to see usage information of one of the helper functions."
   ]
  },
  {
   "cell_type": "code",
   "execution_count": null,
   "metadata": {},
   "outputs": [],
   "source": [
    "#plot_bathymetry??\n",
    "#plot_erosion??\n",
    "#plot_erosion_multi??\n",
    "#plot_coverage??\n",
    "#create_animation??"
   ]
  },
  {
   "cell_type": "markdown",
   "metadata": {},
   "source": [
    "## 1.1 Run AeoLiS\n",
    "\n",
    "Now you are ready to run your first AeoLiS model!\n",
    "We will first run two models that have been prepared for you to test if everything is working properly.\n",
    "Afterwards we will look at the input and output files involved. In order to run your first AeoLiS model:\n",
    "\n",
    "- Leave this notebook and switch to your terminal.\n",
    "- Navigate to the Sand Motor model schematizations (located in the directory ``models``).\n",
    "- Run the following command:\n",
    "\n",
    "  ``aeolis sandmotor_10year_sorting0_tide0_waves0.txt``\n",
    "\n",
    "Is it running?\n",
    "\n",
    "If not, ask for help.\n",
    "\n",
    "If it is, continue reading the model output!"
   ]
  },
  {
   "cell_type": "markdown",
   "metadata": {},
   "source": [
    "## 1.2 Read AeoLiS output\n",
    "\n",
    "Using the helper functions we now can read the model output.\n",
    "\n",
    "For example, we can plot the final bathymetry and the final bathymetric change (select the following cell and press **Shift-Enter**):"
   ]
  },
  {
   "cell_type": "code",
   "execution_count": null,
   "metadata": {
    "scrolled": true
   },
   "outputs": [],
   "source": [
    "plot_bathymetry('../models/sandmotor_10year_sorting0_tide0_waves0.nc');\n",
    "plot_bathymetry('../models/sandmotor_10year_sorting0_tide0_waves0.nc', change=True);"
   ]
  },
  {
   "cell_type": "markdown",
   "metadata": {},
   "source": [
    "Or we can plot the total erosion volume over time:"
   ]
  },
  {
   "cell_type": "code",
   "execution_count": null,
   "metadata": {
    "scrolled": false
   },
   "outputs": [],
   "source": [
    "plot_erosion('../models/sandmotor_10year_sorting0_tide0_waves0.nc');"
   ]
  },
  {
   "cell_type": "markdown",
   "metadata": {},
   "source": [
    "Or create an animation (this takes some time):"
   ]
  },
  {
   "cell_type": "code",
   "execution_count": null,
   "metadata": {},
   "outputs": [],
   "source": [
    "create_animation('../models/sandmotor_10year_sorting0_tide0_waves0.nc');"
   ]
  },
  {
   "cell_type": "markdown",
   "metadata": {},
   "source": [
    "## 1.3 Run AeoLiS with multiple sediment fractions\n",
    "\n",
    "Run the model model again, but now with multiple sediment fractions. Use the following command:\n",
    "\n",
    "``aeolis sandmotor_10year_sorting1_tide0_waves0.txt``\n",
    "\n",
    "And read the model output."
   ]
  },
  {
   "cell_type": "code",
   "execution_count": null,
   "metadata": {},
   "outputs": [],
   "source": [
    "plot_bathymetry('../models/sandmotor_10year_sorting1_tide0_waves0.nc');\n",
    "plot_bathymetry('../models/sandmotor_10year_sorting1_tide0_waves0.nc', change=True);"
   ]
  },
  {
   "cell_type": "markdown",
   "metadata": {},
   "source": [
    "You can plot the total erosion volume over time from both model runs in a single plot:"
   ]
  },
  {
   "cell_type": "code",
   "execution_count": null,
   "metadata": {},
   "outputs": [],
   "source": [
    "plot_erosion_multi('../models/*_tide0_waves0.nc');"
   ]
  },
  {
   "cell_type": "markdown",
   "metadata": {
    "collapsed": true
   },
   "source": [
    "## 1.4 Questions\n",
    "\n",
    "You just ran and analyzed two AeoLiS models. Please take some time to answer the following questions regarding these runs:\n",
    "\n",
    "1. What was the simulation time?\n",
    "- What was the timestep?\n",
    "- What was the spatial resolution?\n",
    "- What was the wind speed and direction? Were they constant?\n",
    "- What were the boundary conditions? Can sediment leave the model domain?\n",
    "- What model parameters affect the sediment distribution?\n",
    "- What model parameters affect sediment sorting and beach armoring?\n",
    "- What was the largest grain size fraction? Is it erodible?\n",
    "- What differences do you see between both model runs? Can you explain them?"
   ]
  },
  {
   "cell_type": "code",
   "execution_count": null,
   "metadata": {},
   "outputs": [],
   "source": []
  }
 ],
 "metadata": {
  "kernelspec": {
   "display_name": "Python 3 (ipykernel)",
   "language": "python",
   "name": "python3"
  },
  "language_info": {
   "codemirror_mode": {
    "name": "ipython",
    "version": 3
   },
   "file_extension": ".py",
   "mimetype": "text/x-python",
   "name": "python",
   "nbconvert_exporter": "python",
   "pygments_lexer": "ipython3",
   "version": "3.8.16"
  }
 },
 "nbformat": 4,
 "nbformat_minor": 2
}
